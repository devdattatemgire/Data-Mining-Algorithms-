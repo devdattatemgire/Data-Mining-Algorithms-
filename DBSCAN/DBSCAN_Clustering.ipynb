{
  "nbformat": 4,
  "nbformat_minor": 0,
  "metadata": {
    "colab": {
      "provenance": [],
      "authorship_tag": "ABX9TyPwTwqDwWUDuViMW8Xw8ABJ",
      "include_colab_link": true
    },
    "kernelspec": {
      "name": "python3",
      "display_name": "Python 3"
    },
    "language_info": {
      "name": "python"
    }
  },
  "cells": [
    {
      "cell_type": "markdown",
      "metadata": {
        "id": "view-in-github",
        "colab_type": "text"
      },
      "source": [
        "<a href=\"https://colab.research.google.com/github/devdattatemgire/Data-Mining-Algorithms-/blob/main/DBSCAN/DBSCAN_Clustering.ipynb\" target=\"_parent\"><img src=\"https://colab.research.google.com/assets/colab-badge.svg\" alt=\"Open In Colab\"/></a>"
      ]
    },
    {
      "cell_type": "code",
      "execution_count": null,
      "metadata": {
        "id": "lXAeaZmU9UR8"
      },
      "outputs": [],
      "source": [
        "import numpy as np\n",
        "import statistics\n",
        "import itertools\n",
        "import math"
      ]
    },
    {
      "cell_type": "code",
      "source": [
        "n = int(input('Enter the length of dataset: '))\n",
        "dist = np.zeros(shape=(n,n))\n",
        "print(dist)"
      ],
      "metadata": {
        "colab": {
          "base_uri": "https://localhost:8080/"
        },
        "id": "TMPWulvsATWS",
        "outputId": "473887b1-b0c8-4773-c7f7-2695c7f77236"
      },
      "execution_count": null,
      "outputs": [
        {
          "output_type": "stream",
          "name": "stdout",
          "text": [
            "Enter the length of dataset: 8\n",
            "[[0. 0. 0. 0. 0. 0. 0. 0.]\n",
            " [0. 0. 0. 0. 0. 0. 0. 0.]\n",
            " [0. 0. 0. 0. 0. 0. 0. 0.]\n",
            " [0. 0. 0. 0. 0. 0. 0. 0.]\n",
            " [0. 0. 0. 0. 0. 0. 0. 0.]\n",
            " [0. 0. 0. 0. 0. 0. 0. 0.]\n",
            " [0. 0. 0. 0. 0. 0. 0. 0.]\n",
            " [0. 0. 0. 0. 0. 0. 0. 0.]]\n"
          ]
        }
      ]
    },
    {
      "cell_type": "code",
      "source": [
        "D =  [(2, 0), (2, 5), (8,4), (5, 8), (7, 5), (6, 4), (1, 2), (4, 9)]"
      ],
      "metadata": {
        "id": "6S11yh9LB7pN"
      },
      "execution_count": null,
      "outputs": []
    },
    {
      "cell_type": "code",
      "source": [
        "epsilon = 2\n",
        "min_pts = 2\n",
        "border = 1"
      ],
      "metadata": {
        "id": "p6se5W33D5PY"
      },
      "execution_count": null,
      "outputs": []
    },
    {
      "cell_type": "code",
      "source": [
        "for i in range(int(len(D))):\n",
        "        for j in range(int(len(D))):\n",
        "            dist[i, j] = math.dist(D[i],D[j])\n"
      ],
      "metadata": {
        "id": "ur3DwyEG_Yw6"
      },
      "execution_count": null,
      "outputs": []
    },
    {
      "cell_type": "code",
      "source": [
        "dist"
      ],
      "metadata": {
        "colab": {
          "base_uri": "https://localhost:8080/"
        },
        "id": "wX-V_jJEJ3k2",
        "outputId": "82e56ca2-f6b5-4d71-fbe0-357cc66bb1c4"
      },
      "execution_count": null,
      "outputs": [
        {
          "output_type": "execute_result",
          "data": {
            "text/plain": [
              "array([[0.        , 5.        , 7.21110255, 8.54400375, 7.07106781,\n",
              "        5.65685425, 2.23606798, 9.21954446],\n",
              "       [5.        , 0.        , 6.08276253, 4.24264069, 5.        ,\n",
              "        4.12310563, 3.16227766, 4.47213595],\n",
              "       [7.21110255, 6.08276253, 0.        , 5.        , 1.41421356,\n",
              "        2.        , 7.28010989, 6.40312424],\n",
              "       [8.54400375, 4.24264069, 5.        , 0.        , 3.60555128,\n",
              "        4.12310563, 7.21110255, 1.41421356],\n",
              "       [7.07106781, 5.        , 1.41421356, 3.60555128, 0.        ,\n",
              "        1.41421356, 6.70820393, 5.        ],\n",
              "       [5.65685425, 4.12310563, 2.        , 4.12310563, 1.41421356,\n",
              "        0.        , 5.38516481, 5.38516481],\n",
              "       [2.23606798, 3.16227766, 7.28010989, 7.21110255, 6.70820393,\n",
              "        5.38516481, 0.        , 7.61577311],\n",
              "       [9.21954446, 4.47213595, 6.40312424, 1.41421356, 5.        ,\n",
              "        5.38516481, 7.61577311, 0.        ]])"
            ]
          },
          "metadata": {},
          "execution_count": 18
        }
      ]
    },
    {
      "cell_type": "code",
      "source": [
        "index_dict = {str('P'+ str(key)): [] for key in range(n)}\n",
        "print(index_dict)"
      ],
      "metadata": {
        "colab": {
          "base_uri": "https://localhost:8080/"
        },
        "id": "tRWJqFeeEa3x",
        "outputId": "b67c37d2-67d6-430e-ab17-13344e2d5b02"
      },
      "execution_count": null,
      "outputs": [
        {
          "output_type": "stream",
          "name": "stdout",
          "text": [
            "{'P0': [], 'P1': [], 'P2': [], 'P3': [], 'P4': [], 'P5': [], 'P6': [], 'P7': []}\n"
          ]
        }
      ]
    },
    {
      "cell_type": "code",
      "source": [
        "dict_ans = {str('P'+ str(key)): [] for key in range(n)}\n",
        "print(dict_ans)"
      ],
      "metadata": {
        "colab": {
          "base_uri": "https://localhost:8080/"
        },
        "id": "SA1qPHL6DLvh",
        "outputId": "1d9cc3c8-a2dc-4a82-89f9-1094ab9f3cbd"
      },
      "execution_count": null,
      "outputs": [
        {
          "output_type": "stream",
          "name": "stdout",
          "text": [
            "{'P0': [], 'P1': [], 'P2': [], 'P3': [], 'P4': [], 'P5': [], 'P6': [], 'P7': []}\n"
          ]
        }
      ]
    },
    {
      "cell_type": "code",
      "source": [
        "for i in range(n):\n",
        "  for j in range(n):\n",
        "    if j==i:\n",
        "      continue\n",
        "    else:\n",
        "      if dist[i,j] <= epsilon:\n",
        "        dict_ans[str('P'+ str(i))].append(str('P'+ str(j)))"
      ],
      "metadata": {
        "id": "H9s4pxyxDuGx"
      },
      "execution_count": null,
      "outputs": []
    },
    {
      "cell_type": "code",
      "source": [
        "print(dict_ans)"
      ],
      "metadata": {
        "colab": {
          "base_uri": "https://localhost:8080/"
        },
        "id": "ZRJJ8C9IFDwJ",
        "outputId": "fc8a9c59-5b26-4e77-dbe7-df179900ae5a"
      },
      "execution_count": null,
      "outputs": [
        {
          "output_type": "stream",
          "name": "stdout",
          "text": [
            "{'P0': [], 'P1': [], 'P2': ['P4', 'P5'], 'P3': ['P7'], 'P4': ['P2', 'P5'], 'P5': ['P2', 'P4'], 'P6': [], 'P7': ['P3']}\n"
          ]
        }
      ]
    },
    {
      "cell_type": "code",
      "source": [
        "for key,value in dict_ans.items():\n",
        "  if len(value) >= min_pts:\n",
        "    index_dict[key].append('Core')\n",
        "  elif len(value) == border:\n",
        "    index_dict[key].append('Border')\n",
        "  else:\n",
        "    index_dict[key].append('Noise')\n"
      ],
      "metadata": {
        "id": "_wrwCZKGFUW3"
      },
      "execution_count": null,
      "outputs": []
    },
    {
      "cell_type": "code",
      "source": [
        "index_dict"
      ],
      "metadata": {
        "colab": {
          "base_uri": "https://localhost:8080/"
        },
        "id": "QqbiQTE-IU6d",
        "outputId": "da9457d3-5e96-49e3-a30a-0e9b049edc6f"
      },
      "execution_count": null,
      "outputs": [
        {
          "output_type": "execute_result",
          "data": {
            "text/plain": [
              "{'P0': ['Noise'],\n",
              " 'P1': ['Noise'],\n",
              " 'P2': ['Core'],\n",
              " 'P3': ['Border'],\n",
              " 'P4': ['Core'],\n",
              " 'P5': ['Core'],\n",
              " 'P6': ['Noise'],\n",
              " 'P7': ['Border']}"
            ]
          },
          "metadata": {},
          "execution_count": 24
        }
      ]
    }
  ]
}