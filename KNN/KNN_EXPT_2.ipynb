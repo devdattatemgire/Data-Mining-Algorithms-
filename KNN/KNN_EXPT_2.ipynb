{
  "nbformat": 4,
  "nbformat_minor": 0,
  "metadata": {
    "colab": {
      "provenance": [],
      "mount_file_id": "1OWc4Pl16KpiXaQMkcT0_BNwRvUeRxKKW",
      "authorship_tag": "ABX9TyNqa9G0YczufmL/ztw3fsSR",
      "include_colab_link": true
    },
    "kernelspec": {
      "name": "python3",
      "display_name": "Python 3"
    },
    "language_info": {
      "name": "python"
    }
  },
  "cells": [
    {
      "cell_type": "markdown",
      "metadata": {
        "id": "view-in-github",
        "colab_type": "text"
      },
      "source": [
        "<a href=\"https://colab.research.google.com/github/devdattatemgire/Data-Mining-Algorithms-/blob/main/KNN/KNN_EXPT_2.ipynb\" target=\"_parent\"><img src=\"https://colab.research.google.com/assets/colab-badge.svg\" alt=\"Open In Colab\"/></a>"
      ]
    },
    {
      "cell_type": "code",
      "execution_count": null,
      "metadata": {
        "id": "6RIyEuGhjT5F"
      },
      "outputs": [],
      "source": [
        "import pandas as pd\n",
        "import math\n",
        "df = pd.read_csv('/content/knn.csv')"
      ]
    },
    {
      "cell_type": "code",
      "source": [
        "# print(df.head())"
      ],
      "metadata": {
        "id": "NMj6jQEgljp4"
      },
      "execution_count": null,
      "outputs": []
    },
    {
      "cell_type": "code",
      "source": [
        "X = df.iloc[:,[0,1]]\n",
        "y = df.iloc[:,-1:]\n",
        "\n",
        "print('X:', X)\n",
        "print('y:', y)"
      ],
      "metadata": {
        "colab": {
          "base_uri": "https://localhost:8080/"
        },
        "id": "8-lX5_nRll03",
        "outputId": "b3b80527-fe59-43db-84e8-2a199b01e94c"
      },
      "execution_count": null,
      "outputs": [
        {
          "output_type": "stream",
          "name": "stdout",
          "text": [
            "X:     x   y\n",
            "0  10   2\n",
            "1  12   3\n",
            "2   9   2\n",
            "3   0  10\n",
            "4   4   8\n",
            "5   3  11\n",
            "y:   quality\n",
            "0     yes\n",
            "1     yes\n",
            "2     yes\n",
            "3      no\n",
            "4      no\n",
            "5      no\n"
          ]
        }
      ]
    },
    {
      "cell_type": "code",
      "source": [],
      "metadata": {
        "id": "5BD5BDTH4eNQ"
      },
      "execution_count": null,
      "outputs": []
    },
    {
      "cell_type": "code",
      "source": [
        "# print(type(X))"
      ],
      "metadata": {
        "id": "dwpoIyM81-I4"
      },
      "execution_count": null,
      "outputs": []
    },
    {
      "cell_type": "code",
      "source": [
        "input1 = int(input(\"Enter the value of first feature\"))\n",
        "input2 = int(input(\"Enter the value of second feature\"))\n",
        "unknowns = []\n",
        "unknowns.append(input1)\n",
        "unknowns.append(input2)\n",
        "print('Unknowns: ', unknowns )\n",
        "\n",
        "k = int(input(\"Enter the no. of neignbour\"))\n"
      ],
      "metadata": {
        "colab": {
          "base_uri": "https://localhost:8080/"
        },
        "id": "0zuFHcGnnE5D",
        "outputId": "56276238-2c86-4742-8691-4dae095ea62b"
      },
      "execution_count": null,
      "outputs": [
        {
          "name": "stdout",
          "output_type": "stream",
          "text": [
            "Enter the value of first feature3\n",
            "Enter the value of second feature7\n",
            "Unknowns:  [3, 7]\n",
            "Enter the no. of neignbour4\n"
          ]
        }
      ]
    },
    {
      "cell_type": "code",
      "source": [
        "m = len(df.index)\n",
        "# feature_list = [[] for _ in range(m)]\n",
        "feature_list = []\n",
        "print(feature_list)\n",
        "n = 0\n",
        "for i in range(len(X)):\n",
        "    print(X.iloc[i, 0], X.iloc[i, 1])\n",
        "    feature_list.append([X.iloc[i, 0], X.iloc[i, 1]])\n",
        "    n = n+1\n",
        "print(feature_list)"
      ],
      "metadata": {
        "colab": {
          "base_uri": "https://localhost:8080/"
        },
        "id": "ljDwPIX6oLrg",
        "outputId": "c3df2f15-5860-41a3-faba-c875513d39ee"
      },
      "execution_count": null,
      "outputs": [
        {
          "output_type": "stream",
          "name": "stdout",
          "text": [
            "[]\n",
            "10 2\n",
            "12 3\n",
            "9 2\n",
            "0 10\n",
            "4 8\n",
            "3 11\n",
            "[[10, 2], [12, 3], [9, 2], [0, 10], [4, 8], [3, 11]]\n"
          ]
        }
      ]
    },
    {
      "cell_type": "code",
      "source": [
        "distances = []\n",
        "for i in range(m):\n",
        " d = math.dist(feature_list[i], unknowns)\n",
        " distances.append(d)\n",
        "print(distances)\n",
        "\n"
      ],
      "metadata": {
        "colab": {
          "base_uri": "https://localhost:8080/"
        },
        "id": "BoLuXq7fnxQ9",
        "outputId": "896d9d82-9359-4fc2-e277-4f2d01157f54"
      },
      "execution_count": null,
      "outputs": [
        {
          "output_type": "stream",
          "name": "stdout",
          "text": [
            "[8.602325267042627, 9.848857801796104, 7.810249675906654, 4.242640687119285, 1.4142135623730951, 4.0]\n"
          ]
        }
      ]
    },
    {
      "cell_type": "code",
      "source": [
        "dist_df = pd.DataFrame(distances, columns =['distances'])\n",
        "print(dist_df)\n"
      ],
      "metadata": {
        "colab": {
          "base_uri": "https://localhost:8080/"
        },
        "id": "70Hy0cnBs0lN",
        "outputId": "5dcf9502-13a2-4f31-8374-3abd77813b56"
      },
      "execution_count": null,
      "outputs": [
        {
          "output_type": "stream",
          "name": "stdout",
          "text": [
            "   distances\n",
            "0   8.602325\n",
            "1   9.848858\n",
            "2   7.810250\n",
            "3   4.242641\n",
            "4   1.414214\n",
            "5   4.000000\n"
          ]
        }
      ]
    },
    {
      "cell_type": "code",
      "source": [
        "y.insert(1,'Distances',dist_df)\n",
        "print(y)"
      ],
      "metadata": {
        "colab": {
          "base_uri": "https://localhost:8080/"
        },
        "id": "mGDdA2xgt-72",
        "outputId": "ac023607-2843-41aa-b86d-d64d6da3932d"
      },
      "execution_count": null,
      "outputs": [
        {
          "output_type": "stream",
          "name": "stdout",
          "text": [
            "  quality  Distances\n",
            "0     yes   8.602325\n",
            "1     yes   9.848858\n",
            "2     yes   7.810250\n",
            "3      no   4.242641\n",
            "4      no   1.414214\n",
            "5      no   4.000000\n"
          ]
        }
      ]
    },
    {
      "cell_type": "code",
      "source": [
        "y_sort = y.sort_values(\n",
        "     by=\"Distances\",\n",
        "     ascending=True )\n"
      ],
      "metadata": {
        "id": "h-ZPqETHu3wP"
      },
      "execution_count": null,
      "outputs": []
    },
    {
      "cell_type": "code",
      "source": [
        "print(y_sort)"
      ],
      "metadata": {
        "colab": {
          "base_uri": "https://localhost:8080/"
        },
        "id": "xxU0uVGMxDtg",
        "outputId": "5b0a27e4-469b-4f9e-835c-ad056bb69469"
      },
      "execution_count": null,
      "outputs": [
        {
          "output_type": "stream",
          "name": "stdout",
          "text": [
            "  quality  Distances\n",
            "4      no   1.414214\n",
            "5      no   4.000000\n",
            "3      no   4.242641\n",
            "2     yes   7.810250\n",
            "0     yes   8.602325\n",
            "1     yes   9.848858\n"
          ]
        }
      ]
    },
    {
      "cell_type": "code",
      "source": [
        "y_final = y_sort.drop(y_sort.index[k:m])"
      ],
      "metadata": {
        "id": "7ws_h2LUwgwW"
      },
      "execution_count": null,
      "outputs": []
    },
    {
      "cell_type": "code",
      "source": [
        "print(y_final)"
      ],
      "metadata": {
        "colab": {
          "base_uri": "https://localhost:8080/"
        },
        "id": "ktkMsVbOxY4X",
        "outputId": "64ce8131-6fef-4751-845c-69acf4600d42"
      },
      "execution_count": null,
      "outputs": [
        {
          "output_type": "stream",
          "name": "stdout",
          "text": [
            "  quality  Distances\n",
            "4      no   1.414214\n",
            "5      no   4.000000\n",
            "3      no   4.242641\n",
            "2     yes   7.810250\n"
          ]
        }
      ]
    },
    {
      "cell_type": "code",
      "source": [
        "# for col in y_final.columns:\n",
        "\n"
      ],
      "metadata": {
        "id": "KelDcMNJ2aMD"
      },
      "execution_count": null,
      "outputs": []
    },
    {
      "cell_type": "code",
      "source": [
        "# df['quality'].mode()\n",
        "s = 1\n",
        "y_final['quality'].value_counts()[:s].index.tolist()"
      ],
      "metadata": {
        "colab": {
          "base_uri": "https://localhost:8080/"
        },
        "id": "qEJpER8LxY5H",
        "outputId": "ac4fe712-6364-4140-9096-1e5ff89c3239"
      },
      "execution_count": null,
      "outputs": [
        {
          "output_type": "execute_result",
          "data": {
            "text/plain": [
              "['no']"
            ]
          },
          "metadata": {},
          "execution_count": 14
        }
      ]
    },
    {
      "cell_type": "code",
      "source": [],
      "metadata": {
        "id": "JPYt69hK15qg"
      },
      "execution_count": null,
      "outputs": []
    }
  ]
}