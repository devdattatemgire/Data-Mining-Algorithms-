{
  "nbformat": 4,
  "nbformat_minor": 0,
  "metadata": {
    "colab": {
      "provenance": [],
      "authorship_tag": "ABX9TyM09ZzfWGknmGB3J8YH6hQf",
      "include_colab_link": true
    },
    "kernelspec": {
      "name": "python3",
      "display_name": "Python 3"
    },
    "language_info": {
      "name": "python"
    }
  },
  "cells": [
    {
      "cell_type": "markdown",
      "metadata": {
        "id": "view-in-github",
        "colab_type": "text"
      },
      "source": [
        "<a href=\"https://colab.research.google.com/github/devdattatemgire/Data-Mining-Algorithms-/blob/main/Agglomeretive%20Clustering/Aglomeretive_EXPT_4_Clean.ipynb\" target=\"_parent\"><img src=\"https://colab.research.google.com/assets/colab-badge.svg\" alt=\"Open In Colab\"/></a>"
      ]
    },
    {
      "cell_type": "code",
      "execution_count": null,
      "metadata": {
        "id": "0yjasml25L16"
      },
      "outputs": [],
      "source": [
        "import numpy as np\n",
        "import statistics"
      ]
    },
    {
      "cell_type": "code",
      "source": [
        "n = int(input('Enter the length of dataset: '))\n",
        "dist = np.zeros(shape=(n,n))\n",
        "print(dist)"
      ],
      "metadata": {
        "id": "EIGCFCzr5MkC",
        "colab": {
          "base_uri": "https://localhost:8080/"
        },
        "outputId": "c4dfe747-5472-4182-c0d0-681a736fdf71"
      },
      "execution_count": null,
      "outputs": [
        {
          "output_type": "stream",
          "name": "stdout",
          "text": [
            "Enter the length of dataset: 5\n",
            "[[0. 0. 0. 0. 0.]\n",
            " [0. 0. 0. 0. 0.]\n",
            " [0. 0. 0. 0. 0.]\n",
            " [0. 0. 0. 0. 0.]\n",
            " [0. 0. 0. 0. 0.]]\n"
          ]
        }
      ]
    },
    {
      "cell_type": "code",
      "source": [
        "index_dict = {key: [key] for key in range(n)}\n",
        "print(index_dict)\n",
        "index_dict_ans = {key: [str('P'+ str(key))] for key in range(n)}\n",
        "print(index_dict_ans)"
      ],
      "metadata": {
        "id": "-m5RFL5p5Pcg",
        "colab": {
          "base_uri": "https://localhost:8080/"
        },
        "outputId": "9a718502-a847-481b-a036-10beb34c4e5c"
      },
      "execution_count": null,
      "outputs": [
        {
          "output_type": "stream",
          "name": "stdout",
          "text": [
            "{0: [0], 1: [1], 2: [2], 3: [3], 4: [4]}\n",
            "{0: ['P0'], 1: ['P1'], 2: ['P2'], 3: ['P3'], 4: ['P4']}\n"
          ]
        }
      ]
    },
    {
      "cell_type": "code",
      "source": [
        "for i in range(n):\n",
        "  print(i)\n",
        "  for j in range(i+1):\n",
        "    dist[i,j] = float(input(\"Enter the element\"))\n",
        "print(dist)"
      ],
      "metadata": {
        "id": "DkvrpyVo5QzA"
      },
      "execution_count": null,
      "outputs": []
    },
    {
      "cell_type": "code",
      "source": [
        "dist = np.array([\n",
        "    [0, 0, 0, 0, 0],\n",
        "    [9, 0, 0, 0, 0],\n",
        "    [3, 7, 0, 0, 0],\n",
        "    [6, 5, 9, 0, 0],\n",
        "    [11, 10, 2, 8, 0]\n",
        "])\n",
        "\n",
        "# dist = np.array([\n",
        "#     [0, 0, 0, 0, 0, 0],\n",
        "#     [0.23, 0, 0, 0, 0, 0],\n",
        "#     [0.22, 0.14, 0, 0, 0, 0],\n",
        "#     [0.37, 0.19, 0.13, 0, 0, 0],\n",
        "#     [0.34, 0.14, 0.28, 0.23, 0, 0],\n",
        "#     [0.24, 0.24, 0.10, 0.22, 0.39, 0]\n",
        "# ])\n",
        "\n",
        "\n",
        "\n",
        "print(dist)"
      ],
      "metadata": {
        "id": "-tEzEzud5Xho",
        "colab": {
          "base_uri": "https://localhost:8080/"
        },
        "outputId": "2ec60093-f83a-49fd-d9a7-44e4a1096dcc"
      },
      "execution_count": null,
      "outputs": [
        {
          "output_type": "stream",
          "name": "stdout",
          "text": [
            "[[ 0  0  0  0  0]\n",
            " [ 9  0  0  0  0]\n",
            " [ 3  7  0  0  0]\n",
            " [ 6  5  9  0  0]\n",
            " [11 10  2  8  0]]\n"
          ]
        }
      ]
    },
    {
      "cell_type": "code",
      "source": [
        "m = 0\n",
        "final_pattern = []\n",
        "final_pattern_ans = []"
      ],
      "metadata": {
        "id": "cPZFXdMp5Z6I"
      },
      "execution_count": null,
      "outputs": []
    },
    {
      "cell_type": "code",
      "source": [
        "while(n!=1):\n",
        "\n",
        "  min_list = []\n",
        "  for i in range(1,n):\n",
        "    for j in range(i):\n",
        "      min_list.append(dist[i,j])\n",
        "  print(min_list)\n",
        "  min = np.min(min_list)\n",
        "  print(min)\n",
        "\n",
        "  merge_index = np.where(dist == min)\n",
        "  print(merge_index)\n",
        "  list_of_index = list(zip(merge_index[0],merge_index[1]))\n",
        "  for index in list_of_index:\n",
        "    print(\"Index: \",index)\n",
        "  index = list(index)\n",
        "  print(index)\n",
        "\n",
        "  index_dict[np.min(index)].append(np.max(index))\n",
        "  print('test', final_pattern)\n",
        "  print('dicty: ', index_dict[np.min(index)])\n",
        "  final_pattern.append(index_dict[np.min(index)].copy())\n",
        "  # final_pattern.append(index_dict[np.min(index)])\n",
        "  for k in index_dict_ans[np.max(index)]:\n",
        "   index_dict_ans[np.min(index)].append(k)\n",
        "   # index_dict_ans[np.min(index)] = index_dict_ans[np.min(index)] + index_dict_ans[np.max(index)]\n",
        "  final_pattern_ans.append(index_dict_ans[np.min(index)].copy())\n",
        "  # final_pattern_ans.append(index_dict_ans[np.min(index)])\n",
        "\n",
        "  index_dict.pop(np.max(index))\n",
        "  index_dict_ans.pop(np.max(index))\n",
        "\n",
        "  temp_val_list = list(index_dict.values())\n",
        "  temp_val_list_ans = list(index_dict_ans.values())\n",
        "  n=n-1\n",
        "  index_dict_new = {key: temp_val_list[i] for i, key in enumerate(range(n))}\n",
        "  index_dict_ans_new ={key: temp_val_list_ans[i] for i, key in enumerate(range(n))}\n",
        "\n",
        "  index_dict = index_dict_new\n",
        "  index_dict_ans = index_dict_ans_new\n",
        "\n",
        "  new_dist = np.zeros(shape=(n,n))\n",
        "  for i in range(n):\n",
        "    for j in range(i+1):\n",
        "      new_dist[i,j]=dist[i,j]\n",
        "  print(new_dist)\n",
        "  key_list=list(index_dict.keys())\n",
        "  val_list=list(index_dict.values())\n",
        "  ind=val_list.index(final_pattern[m])\n",
        "\n",
        "  k = key_list[ind]\n",
        "  for i in range(k):\n",
        "    # new_dist[k,i] = np.min([dist[s,i] for s in final_pattern[m]])\n",
        "    new_dist[k,i] = np.min([dist[s,i] for s in index])\n",
        "  # if (np.max(index) != n-1):\n",
        "  for i in range(np.max(index),n):\n",
        "    for j in range(n):\n",
        "      new_dist[i,j] = dist[i+1,j]\n",
        "\n",
        "  for i in range(n):\n",
        "    new_dist[i,i]=0\n",
        "  m = m + 1\n",
        "  dist = new_dist\n",
        "\n",
        "print('Final Answer: ', final_pattern_ans)"
      ],
      "metadata": {
        "id": "ljnTquCJ5gSg",
        "colab": {
          "base_uri": "https://localhost:8080/"
        },
        "outputId": "4857780e-7b9a-4420-ce82-e8c18bf18b2a"
      },
      "execution_count": null,
      "outputs": [
        {
          "output_type": "stream",
          "name": "stdout",
          "text": [
            "[9, 3, 7, 6, 5, 9, 11, 10, 2, 8]\n",
            "2\n",
            "(array([4]), array([2]))\n",
            "Index:  (4, 2)\n",
            "[4, 2]\n",
            "test []\n",
            "dicty:  [2, 4]\n",
            "[[0. 0. 0. 0.]\n",
            " [9. 0. 0. 0.]\n",
            " [3. 7. 0. 0.]\n",
            " [6. 5. 9. 0.]]\n",
            "[9.0, 3.0, 7.0, 6.0, 5.0, 9.0]\n",
            "3.0\n",
            "(array([2]), array([0]))\n",
            "Index:  (2, 0)\n",
            "[2, 0]\n",
            "test [[2, 4]]\n",
            "dicty:  [0, 2]\n",
            "[[0. 0. 0.]\n",
            " [9. 0. 0.]\n",
            " [3. 7. 0.]]\n",
            "[9.0, 6.0, 5.0]\n",
            "5.0\n",
            "(array([2]), array([1]))\n",
            "Index:  (2, 1)\n",
            "[2, 1]\n",
            "test [[2, 4], [0, 2]]\n",
            "dicty:  [1, 2]\n",
            "[[0. 0.]\n",
            " [9. 0.]]\n",
            "[6.0]\n",
            "6.0\n",
            "(array([1]), array([0]))\n",
            "Index:  (1, 0)\n",
            "[1, 0]\n",
            "test [[2, 4], [0, 2], [1, 2]]\n",
            "dicty:  [0, 2, 1]\n",
            "[[0.]]\n",
            "Final Answer:  [['P2', 'P4'], ['P0', 'P2', 'P4'], ['P1', 'P3'], ['P0', 'P2', 'P4', 'P1', 'P3']]\n"
          ]
        }
      ]
    },
    {
      "cell_type": "code",
      "source": [
        "type( index )"
      ],
      "metadata": {
        "colab": {
          "base_uri": "https://localhost:8080/"
        },
        "id": "AP--SdYKaKnu",
        "outputId": "d81591d1-68f3-4cdc-b781-883d181a8440"
      },
      "execution_count": null,
      "outputs": [
        {
          "output_type": "execute_result",
          "data": {
            "text/plain": [
              "list"
            ]
          },
          "metadata": {},
          "execution_count": 9
        }
      ]
    }
  ]
}