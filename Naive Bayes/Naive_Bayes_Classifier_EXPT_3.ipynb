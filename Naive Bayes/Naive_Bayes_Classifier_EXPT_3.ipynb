{
  "nbformat": 4,
  "nbformat_minor": 0,
  "metadata": {
    "colab": {
      "provenance": [],
      "mount_file_id": "1fihrnCUnEFn1n_hrqkXJMxcgDQG316V4",
      "authorship_tag": "ABX9TyO2s8/L/2Ht5StWg30mTN/B",
      "include_colab_link": true
    },
    "kernelspec": {
      "name": "python3",
      "display_name": "Python 3"
    },
    "language_info": {
      "name": "python"
    }
  },
  "cells": [
    {
      "cell_type": "markdown",
      "metadata": {
        "id": "view-in-github",
        "colab_type": "text"
      },
      "source": [
        "<a href=\"https://colab.research.google.com/github/devdattatemgire/Data-Mining-Algorithms-/blob/main/Naive%20Bayes/Naive_Bayes_Classifier_EXPT_3.ipynb\" target=\"_parent\"><img src=\"https://colab.research.google.com/assets/colab-badge.svg\" alt=\"Open In Colab\"/></a>"
      ]
    },
    {
      "cell_type": "markdown",
      "source": [
        "#Import CSV"
      ],
      "metadata": {
        "id": "9rPR5p3U7LO9"
      }
    },
    {
      "cell_type": "code",
      "execution_count": null,
      "metadata": {
        "id": "t6VxOf7eiCP0",
        "colab": {
          "base_uri": "https://localhost:8080/"
        },
        "outputId": "ac1dd198-0b83-4eeb-ad44-f84ebcbd0630"
      },
      "outputs": [
        {
          "output_type": "stream",
          "name": "stdout",
          "text": [
            "10\n"
          ]
        }
      ],
      "source": [
        "import pandas as pd\n",
        "df = pd.read_csv('/content/drive/MyDrive/car.csv')\n",
        "df_copy = df\n",
        "print(len(df))"
      ]
    },
    {
      "cell_type": "code",
      "source": [
        "print(df_copy.head())"
      ],
      "metadata": {
        "colab": {
          "base_uri": "https://localhost:8080/"
        },
        "id": "lo7TZdMTtQKq",
        "outputId": "b94e16d2-7082-42d6-f519-c34f93ef713f"
      },
      "execution_count": null,
      "outputs": [
        {
          "output_type": "stream",
          "name": "stdout",
          "text": [
            "   CAR NO   COLOR    TYPE    ORIGIN STOLEN\n",
            "0       1     RED  SPORTS  DOMESTIC    YES\n",
            "1       2     RED  SPORTS  DOMESTIC     NO\n",
            "2       3     RED  SPORTS  DOMESTIC    YES\n",
            "3       4  YELLOW  SPORTS  DOMESTIC     NO\n",
            "4       5  YELLOW  SPORTS  IMPORTED    YES\n"
          ]
        }
      ]
    },
    {
      "cell_type": "code",
      "source": [
        "print(df)"
      ],
      "metadata": {
        "colab": {
          "base_uri": "https://localhost:8080/"
        },
        "id": "EAVqOwer9Ffd",
        "outputId": "17bfae16-8f95-482f-dfd5-00cef9bffba0"
      },
      "execution_count": null,
      "outputs": [
        {
          "output_type": "stream",
          "name": "stdout",
          "text": [
            "   CAR NO   COLOR    TYPE    ORIGIN STOLEN\n",
            "0       1     RED  SPORTS  DOMESTIC    YES\n",
            "1       2     RED  SPORTS  DOMESTIC     NO\n",
            "2       3     RED  SPORTS  DOMESTIC    YES\n",
            "3       4  YELLOW  SPORTS  DOMESTIC     NO\n",
            "4       5  YELLOW  SPORTS  IMPORTED    YES\n",
            "5       6  YELLOW     SUV  IMPORTED     NO\n",
            "6       7  YELLOW     SUV  IMPORTED    YES\n",
            "7       8  YELLOW     SUV  DOMESTIC     NO\n",
            "8       9     RED     SUV  IMPORTED     NO\n",
            "9      10     RED  SPORTS  IMPORTED    YES\n"
          ]
        }
      ]
    },
    {
      "cell_type": "markdown",
      "source": [
        "#Creating feature and lable data frames"
      ],
      "metadata": {
        "id": "02ucjn5366mD"
      }
    },
    {
      "cell_type": "code",
      "source": [
        "X = df.drop(df.columns[[0,-1]], axis = 1)\n",
        "y = df.iloc[:,-1:]"
      ],
      "metadata": {
        "id": "lcEZhq30tYfh"
      },
      "execution_count": null,
      "outputs": []
    },
    {
      "cell_type": "code",
      "source": [
        "print(X.head())\n"
      ],
      "metadata": {
        "colab": {
          "base_uri": "https://localhost:8080/"
        },
        "id": "pyDB2HiDtfwF",
        "outputId": "03592156-d168-4a05-804a-9737ca74d63c"
      },
      "execution_count": null,
      "outputs": [
        {
          "output_type": "stream",
          "name": "stdout",
          "text": [
            "    COLOR    TYPE    ORIGIN\n",
            "0     RED  SPORTS  DOMESTIC\n",
            "1     RED  SPORTS  DOMESTIC\n",
            "2     RED  SPORTS  DOMESTIC\n",
            "3  YELLOW  SPORTS  DOMESTIC\n",
            "4  YELLOW  SPORTS  IMPORTED\n"
          ]
        }
      ]
    },
    {
      "cell_type": "markdown",
      "source": [
        "#Creating list of Feature attributes and Label attributes"
      ],
      "metadata": {
        "id": "YxmSVgh77Bph"
      }
    },
    {
      "cell_type": "code",
      "source": [
        "# iterating the columns\n",
        "label_attr = []\n",
        "feature_attr = []\n",
        "for col in y.columns:\n",
        "    label_attr.append(col)\n",
        "print(label_attr)\n",
        "for col in X.columns:\n",
        "    feature_attr.append(col)\n",
        "print(feature_attr)"
      ],
      "metadata": {
        "colab": {
          "base_uri": "https://localhost:8080/"
        },
        "id": "1k7hUbrktgD7",
        "outputId": "2d967c8a-74eb-406b-8c2f-0a1c7afde9ce"
      },
      "execution_count": null,
      "outputs": [
        {
          "output_type": "stream",
          "name": "stdout",
          "text": [
            "['STOLEN']\n",
            "['COLOR', 'TYPE', 'ORIGIN']\n"
          ]
        }
      ]
    },
    {
      "cell_type": "markdown",
      "source": [
        "#Creating a list within list of unique values in all attributes to create a dictionary of values\n"
      ],
      "metadata": {
        "id": "DX4B5d3h7UxS"
      }
    },
    {
      "cell_type": "code",
      "source": [
        "\n",
        "features = [[] for _ in range(len(feature_attr))]\n",
        "labels = [[] for _ in range(len(label_attr)) ]\n",
        "\n",
        "for m in range(len(X.columns)):\n",
        " for i, j in X.iterrows():\n",
        "      pd.Series.tolist(j)\n",
        "      # print(j[m])\n",
        "      if j[m] not in features[m]:\n",
        "       features[m].append(j[m])\n",
        "print(features)\n",
        "\n",
        "for m in range(len(y.columns)):\n",
        "  for i, j in y.iterrows():\n",
        "        # print(j)\n",
        "        pd.Series.tolist(j)\n",
        "        if j[m] not in labels[m]:\n",
        "          labels[m].append(j[m])\n",
        "\n",
        "print(labels)"
      ],
      "metadata": {
        "colab": {
          "base_uri": "https://localhost:8080/"
        },
        "id": "uDHwAk5h-UK-",
        "outputId": "f4a983a4-db35-4402-ea72-659eace8cd22"
      },
      "execution_count": null,
      "outputs": [
        {
          "output_type": "stream",
          "name": "stdout",
          "text": [
            "[['RED', 'YELLOW'], ['SPORTS', 'SUV'], ['DOMESTIC', 'IMPORTED']]\n",
            "[['YES', 'NO']]\n"
          ]
        }
      ]
    },
    {
      "cell_type": "markdown",
      "source": [
        "#Creating Dictionary of all feature values and aassigning them a numeric values inorder to access them as per the user input"
      ],
      "metadata": {
        "id": "KKXBTfs07vjf"
      }
    },
    {
      "cell_type": "code",
      "source": [
        "\n",
        "feat_dict = {}\n",
        "label_dict = {}\n",
        "temp_index = 0\n",
        "for m in range(len(X.columns)):\n",
        "  for i in features[m]:\n",
        "        feat_dict[i] = int(temp_index)\n",
        "        temp_index = temp_index + 1\n",
        "\n",
        "\n",
        "temp_index = 0\n",
        "print(feat_dict)\n",
        "for m in range(len(y.columns)):\n",
        "  for i in labels[m]:\n",
        "        label_dict[i] = int(temp_index)\n",
        "        temp_index = temp_index + 1\n",
        "\n",
        "\n",
        "print(label_dict)"
      ],
      "metadata": {
        "colab": {
          "base_uri": "https://localhost:8080/"
        },
        "id": "O_3i-0Lm-KhY",
        "outputId": "3587b29d-2628-421d-cdd1-e1c30fd8e899"
      },
      "execution_count": null,
      "outputs": [
        {
          "output_type": "stream",
          "name": "stdout",
          "text": [
            "{'RED': 0, 'YELLOW': 1, 'SPORTS': 2, 'SUV': 3, 'DOMESTIC': 4, 'IMPORTED': 5}\n",
            "{'YES': 0, 'NO': 1}\n"
          ]
        }
      ]
    },
    {
      "cell_type": "markdown",
      "source": [
        "#Creating list of label value counts and feature value counts for calculating prior probability and liklehood"
      ],
      "metadata": {
        "id": "AkUJvXMS77LW"
      }
    },
    {
      "cell_type": "code",
      "source": [
        "label_counts = []\n",
        "feature_counts = []\n",
        "\n",
        "\n",
        "for m,i in zip(range(len(y.columns)), label_attr):\n",
        "    for j in labels[m]:\n",
        "      label_counts.append(y[i].value_counts()[j])\n",
        "\n",
        "print(label_counts)\n",
        "# print(type(label_counts))\n",
        "\n",
        "\n",
        "for m,i in zip(range(len(X.columns)),feature_attr):\n",
        "  for j in features[m]:\n",
        "    feature_counts.append(X[i].value_counts()[j])\n",
        "\n",
        "print(feature_counts)\n",
        "# print(type(feature_counts))\n",
        "\n"
      ],
      "metadata": {
        "colab": {
          "base_uri": "https://localhost:8080/"
        },
        "id": "VSNu5wslwjv4",
        "outputId": "bae668c6-79ed-4478-aaf5-13f3f21ff8b9"
      },
      "execution_count": null,
      "outputs": [
        {
          "output_type": "stream",
          "name": "stdout",
          "text": [
            "[5, 5]\n",
            "[5, 5, 6, 4, 5, 5]\n"
          ]
        }
      ]
    },
    {
      "cell_type": "markdown",
      "source": [
        "#Calculating Prior Probability"
      ],
      "metadata": {
        "id": "Wk3qWAph8Pla"
      }
    },
    {
      "cell_type": "code",
      "source": [
        "prior_prob = []\n",
        "for i in label_counts:\n",
        "  temp_prob = i / df.shape[0]\n",
        "  prior_prob.append(temp_prob)\n",
        "print(prior_prob)"
      ],
      "metadata": {
        "colab": {
          "base_uri": "https://localhost:8080/"
        },
        "id": "pxebUodFDQRD",
        "outputId": "560a810b-2271-4ac0-fdaa-43e50ec821ff"
      },
      "execution_count": null,
      "outputs": [
        {
          "output_type": "stream",
          "name": "stdout",
          "text": [
            "[0.5, 0.5]\n"
          ]
        }
      ]
    },
    {
      "cell_type": "code",
      "source": [
        "print(df.head())"
      ],
      "metadata": {
        "colab": {
          "base_uri": "https://localhost:8080/"
        },
        "id": "TN7SDEV4s3at",
        "outputId": "174cf259-ae99-4840-c546-a928503a11ba"
      },
      "execution_count": null,
      "outputs": [
        {
          "output_type": "stream",
          "name": "stdout",
          "text": [
            "   CAR NO   COLOR    TYPE    ORIGIN STOLEN\n",
            "0       1     RED  SPORTS  DOMESTIC    YES\n",
            "1       2     RED  SPORTS  DOMESTIC     NO\n",
            "2       3     RED  SPORTS  DOMESTIC    YES\n",
            "3       4  YELLOW  SPORTS  DOMESTIC     NO\n",
            "4       5  YELLOW  SPORTS  IMPORTED    YES\n"
          ]
        }
      ]
    },
    {
      "cell_type": "markdown",
      "source": [
        "#Creating list of feature and label combination counts\n",
        "### For example: [ RED - YES , RED - NO, YELLOW - YES, YELLOW - NO,.............. ]"
      ],
      "metadata": {
        "id": "uWIxqz__8u-g"
      }
    },
    {
      "cell_type": "code",
      "source": [
        "import numpy as np\n",
        "df = df_copy\n",
        "lh = []\n",
        "likelihood =  np.empty(shape=(int(len(label_dict)),int(len(feat_dict))))\n",
        "column_drop = []\n",
        "row_drop = []\n",
        "print(likelihood)\n",
        "\n",
        "\n",
        "for i in range(len(feat_dict)):\n",
        "\n",
        "  for j in range(len(label_dict)):\n",
        "    df = pd.read_csv('/content/drive/MyDrive/car.csv')\n",
        "    temp_feat = list(feat_dict.keys())[list(feat_dict.values()).index(i)]\n",
        "    temp_label = list(label_dict.keys())[list(label_dict.values()).index(j)]\n",
        "    print(temp_feat+' '+ temp_label)\n",
        "\n",
        "    column_drop = []\n",
        "    row_drop = []\n",
        "    print('Initial:  ',df.head(10))\n",
        "\n",
        "    for column in df.columns:\n",
        "      if temp_feat not in df[column].values and temp_label not in df[column].values :\n",
        "        column_drop.append(column)\n",
        "    df.drop(columns=column_drop, inplace=True)\n",
        "    print(\"Head: \",df.head(10))\n",
        "\n",
        "\n",
        "    for index, row in df.iterrows():\n",
        "\n",
        "     if ((temp_label not in row.values or temp_label in row.values) and temp_feat not in row.values) or (temp_label not in row.values and temp_feat in row.values):\n",
        "        row_drop.append(index)\n",
        "\n",
        "    print(row_drop)\n",
        "    df.drop(index=row_drop, inplace=True)\n",
        "    print(\"Head2: \",df.head())\n",
        "    row_count = df.shape[0]\n",
        "    lh.append(row_count)\n",
        "print(lh)\n",
        "\n",
        "\n",
        "\n",
        "\n",
        "\n",
        "\n",
        "\n",
        "\n",
        "\n",
        "\n",
        "\n"
      ],
      "metadata": {
        "colab": {
          "base_uri": "https://localhost:8080/"
        },
        "id": "4D_vFzN3Fy3L",
        "outputId": "fb5e3701-e674-409a-b364-fba37a26cc97"
      },
      "execution_count": null,
      "outputs": [
        {
          "output_type": "stream",
          "name": "stdout",
          "text": [
            "[[4.72751721e-310 0.00000000e+000 0.00000000e+000 0.00000000e+000\n",
            "  0.00000000e+000 0.00000000e+000]\n",
            " [0.00000000e+000 0.00000000e+000 0.00000000e+000 0.00000000e+000\n",
            "  0.00000000e+000 0.00000000e+000]]\n",
            "RED YES\n",
            "Initial:      CAR NO   COLOR    TYPE    ORIGIN STOLEN\n",
            "0       1     RED  SPORTS  DOMESTIC    YES\n",
            "1       2     RED  SPORTS  DOMESTIC     NO\n",
            "2       3     RED  SPORTS  DOMESTIC    YES\n",
            "3       4  YELLOW  SPORTS  DOMESTIC     NO\n",
            "4       5  YELLOW  SPORTS  IMPORTED    YES\n",
            "5       6  YELLOW     SUV  IMPORTED     NO\n",
            "6       7  YELLOW     SUV  IMPORTED    YES\n",
            "7       8  YELLOW     SUV  DOMESTIC     NO\n",
            "8       9     RED     SUV  IMPORTED     NO\n",
            "9      10     RED  SPORTS  IMPORTED    YES\n",
            "Head:      COLOR STOLEN\n",
            "0     RED    YES\n",
            "1     RED     NO\n",
            "2     RED    YES\n",
            "3  YELLOW     NO\n",
            "4  YELLOW    YES\n",
            "5  YELLOW     NO\n",
            "6  YELLOW    YES\n",
            "7  YELLOW     NO\n",
            "8     RED     NO\n",
            "9     RED    YES\n",
            "[1, 3, 4, 5, 6, 7, 8]\n",
            "Head2:    COLOR STOLEN\n",
            "0   RED    YES\n",
            "2   RED    YES\n",
            "9   RED    YES\n",
            "RED NO\n",
            "Initial:      CAR NO   COLOR    TYPE    ORIGIN STOLEN\n",
            "0       1     RED  SPORTS  DOMESTIC    YES\n",
            "1       2     RED  SPORTS  DOMESTIC     NO\n",
            "2       3     RED  SPORTS  DOMESTIC    YES\n",
            "3       4  YELLOW  SPORTS  DOMESTIC     NO\n",
            "4       5  YELLOW  SPORTS  IMPORTED    YES\n",
            "5       6  YELLOW     SUV  IMPORTED     NO\n",
            "6       7  YELLOW     SUV  IMPORTED    YES\n",
            "7       8  YELLOW     SUV  DOMESTIC     NO\n",
            "8       9     RED     SUV  IMPORTED     NO\n",
            "9      10     RED  SPORTS  IMPORTED    YES\n",
            "Head:      COLOR STOLEN\n",
            "0     RED    YES\n",
            "1     RED     NO\n",
            "2     RED    YES\n",
            "3  YELLOW     NO\n",
            "4  YELLOW    YES\n",
            "5  YELLOW     NO\n",
            "6  YELLOW    YES\n",
            "7  YELLOW     NO\n",
            "8     RED     NO\n",
            "9     RED    YES\n",
            "[0, 2, 3, 4, 5, 6, 7, 9]\n",
            "Head2:    COLOR STOLEN\n",
            "1   RED     NO\n",
            "8   RED     NO\n",
            "YELLOW YES\n",
            "Initial:      CAR NO   COLOR    TYPE    ORIGIN STOLEN\n",
            "0       1     RED  SPORTS  DOMESTIC    YES\n",
            "1       2     RED  SPORTS  DOMESTIC     NO\n",
            "2       3     RED  SPORTS  DOMESTIC    YES\n",
            "3       4  YELLOW  SPORTS  DOMESTIC     NO\n",
            "4       5  YELLOW  SPORTS  IMPORTED    YES\n",
            "5       6  YELLOW     SUV  IMPORTED     NO\n",
            "6       7  YELLOW     SUV  IMPORTED    YES\n",
            "7       8  YELLOW     SUV  DOMESTIC     NO\n",
            "8       9     RED     SUV  IMPORTED     NO\n",
            "9      10     RED  SPORTS  IMPORTED    YES\n",
            "Head:      COLOR STOLEN\n",
            "0     RED    YES\n",
            "1     RED     NO\n",
            "2     RED    YES\n",
            "3  YELLOW     NO\n",
            "4  YELLOW    YES\n",
            "5  YELLOW     NO\n",
            "6  YELLOW    YES\n",
            "7  YELLOW     NO\n",
            "8     RED     NO\n",
            "9     RED    YES\n",
            "[0, 1, 2, 3, 5, 7, 8, 9]\n",
            "Head2:      COLOR STOLEN\n",
            "4  YELLOW    YES\n",
            "6  YELLOW    YES\n",
            "YELLOW NO\n",
            "Initial:      CAR NO   COLOR    TYPE    ORIGIN STOLEN\n",
            "0       1     RED  SPORTS  DOMESTIC    YES\n",
            "1       2     RED  SPORTS  DOMESTIC     NO\n",
            "2       3     RED  SPORTS  DOMESTIC    YES\n",
            "3       4  YELLOW  SPORTS  DOMESTIC     NO\n",
            "4       5  YELLOW  SPORTS  IMPORTED    YES\n",
            "5       6  YELLOW     SUV  IMPORTED     NO\n",
            "6       7  YELLOW     SUV  IMPORTED    YES\n",
            "7       8  YELLOW     SUV  DOMESTIC     NO\n",
            "8       9     RED     SUV  IMPORTED     NO\n",
            "9      10     RED  SPORTS  IMPORTED    YES\n",
            "Head:      COLOR STOLEN\n",
            "0     RED    YES\n",
            "1     RED     NO\n",
            "2     RED    YES\n",
            "3  YELLOW     NO\n",
            "4  YELLOW    YES\n",
            "5  YELLOW     NO\n",
            "6  YELLOW    YES\n",
            "7  YELLOW     NO\n",
            "8     RED     NO\n",
            "9     RED    YES\n",
            "[0, 1, 2, 4, 6, 8, 9]\n",
            "Head2:      COLOR STOLEN\n",
            "3  YELLOW     NO\n",
            "5  YELLOW     NO\n",
            "7  YELLOW     NO\n",
            "SPORTS YES\n",
            "Initial:      CAR NO   COLOR    TYPE    ORIGIN STOLEN\n",
            "0       1     RED  SPORTS  DOMESTIC    YES\n",
            "1       2     RED  SPORTS  DOMESTIC     NO\n",
            "2       3     RED  SPORTS  DOMESTIC    YES\n",
            "3       4  YELLOW  SPORTS  DOMESTIC     NO\n",
            "4       5  YELLOW  SPORTS  IMPORTED    YES\n",
            "5       6  YELLOW     SUV  IMPORTED     NO\n",
            "6       7  YELLOW     SUV  IMPORTED    YES\n",
            "7       8  YELLOW     SUV  DOMESTIC     NO\n",
            "8       9     RED     SUV  IMPORTED     NO\n",
            "9      10     RED  SPORTS  IMPORTED    YES\n",
            "Head:       TYPE STOLEN\n",
            "0  SPORTS    YES\n",
            "1  SPORTS     NO\n",
            "2  SPORTS    YES\n",
            "3  SPORTS     NO\n",
            "4  SPORTS    YES\n",
            "5     SUV     NO\n",
            "6     SUV    YES\n",
            "7     SUV     NO\n",
            "8     SUV     NO\n",
            "9  SPORTS    YES\n",
            "[1, 3, 5, 6, 7, 8]\n",
            "Head2:       TYPE STOLEN\n",
            "0  SPORTS    YES\n",
            "2  SPORTS    YES\n",
            "4  SPORTS    YES\n",
            "9  SPORTS    YES\n",
            "SPORTS NO\n",
            "Initial:      CAR NO   COLOR    TYPE    ORIGIN STOLEN\n",
            "0       1     RED  SPORTS  DOMESTIC    YES\n",
            "1       2     RED  SPORTS  DOMESTIC     NO\n",
            "2       3     RED  SPORTS  DOMESTIC    YES\n",
            "3       4  YELLOW  SPORTS  DOMESTIC     NO\n",
            "4       5  YELLOW  SPORTS  IMPORTED    YES\n",
            "5       6  YELLOW     SUV  IMPORTED     NO\n",
            "6       7  YELLOW     SUV  IMPORTED    YES\n",
            "7       8  YELLOW     SUV  DOMESTIC     NO\n",
            "8       9     RED     SUV  IMPORTED     NO\n",
            "9      10     RED  SPORTS  IMPORTED    YES\n",
            "Head:       TYPE STOLEN\n",
            "0  SPORTS    YES\n",
            "1  SPORTS     NO\n",
            "2  SPORTS    YES\n",
            "3  SPORTS     NO\n",
            "4  SPORTS    YES\n",
            "5     SUV     NO\n",
            "6     SUV    YES\n",
            "7     SUV     NO\n",
            "8     SUV     NO\n",
            "9  SPORTS    YES\n",
            "[0, 2, 4, 5, 6, 7, 8, 9]\n",
            "Head2:       TYPE STOLEN\n",
            "1  SPORTS     NO\n",
            "3  SPORTS     NO\n",
            "SUV YES\n",
            "Initial:      CAR NO   COLOR    TYPE    ORIGIN STOLEN\n",
            "0       1     RED  SPORTS  DOMESTIC    YES\n",
            "1       2     RED  SPORTS  DOMESTIC     NO\n",
            "2       3     RED  SPORTS  DOMESTIC    YES\n",
            "3       4  YELLOW  SPORTS  DOMESTIC     NO\n",
            "4       5  YELLOW  SPORTS  IMPORTED    YES\n",
            "5       6  YELLOW     SUV  IMPORTED     NO\n",
            "6       7  YELLOW     SUV  IMPORTED    YES\n",
            "7       8  YELLOW     SUV  DOMESTIC     NO\n",
            "8       9     RED     SUV  IMPORTED     NO\n",
            "9      10     RED  SPORTS  IMPORTED    YES\n",
            "Head:       TYPE STOLEN\n",
            "0  SPORTS    YES\n",
            "1  SPORTS     NO\n",
            "2  SPORTS    YES\n",
            "3  SPORTS     NO\n",
            "4  SPORTS    YES\n",
            "5     SUV     NO\n",
            "6     SUV    YES\n",
            "7     SUV     NO\n",
            "8     SUV     NO\n",
            "9  SPORTS    YES\n",
            "[0, 1, 2, 3, 4, 5, 7, 8, 9]\n",
            "Head2:    TYPE STOLEN\n",
            "6  SUV    YES\n",
            "SUV NO\n",
            "Initial:      CAR NO   COLOR    TYPE    ORIGIN STOLEN\n",
            "0       1     RED  SPORTS  DOMESTIC    YES\n",
            "1       2     RED  SPORTS  DOMESTIC     NO\n",
            "2       3     RED  SPORTS  DOMESTIC    YES\n",
            "3       4  YELLOW  SPORTS  DOMESTIC     NO\n",
            "4       5  YELLOW  SPORTS  IMPORTED    YES\n",
            "5       6  YELLOW     SUV  IMPORTED     NO\n",
            "6       7  YELLOW     SUV  IMPORTED    YES\n",
            "7       8  YELLOW     SUV  DOMESTIC     NO\n",
            "8       9     RED     SUV  IMPORTED     NO\n",
            "9      10     RED  SPORTS  IMPORTED    YES\n",
            "Head:       TYPE STOLEN\n",
            "0  SPORTS    YES\n",
            "1  SPORTS     NO\n",
            "2  SPORTS    YES\n",
            "3  SPORTS     NO\n",
            "4  SPORTS    YES\n",
            "5     SUV     NO\n",
            "6     SUV    YES\n",
            "7     SUV     NO\n",
            "8     SUV     NO\n",
            "9  SPORTS    YES\n",
            "[0, 1, 2, 3, 4, 6, 9]\n",
            "Head2:    TYPE STOLEN\n",
            "5  SUV     NO\n",
            "7  SUV     NO\n",
            "8  SUV     NO\n",
            "DOMESTIC YES\n",
            "Initial:      CAR NO   COLOR    TYPE    ORIGIN STOLEN\n",
            "0       1     RED  SPORTS  DOMESTIC    YES\n",
            "1       2     RED  SPORTS  DOMESTIC     NO\n",
            "2       3     RED  SPORTS  DOMESTIC    YES\n",
            "3       4  YELLOW  SPORTS  DOMESTIC     NO\n",
            "4       5  YELLOW  SPORTS  IMPORTED    YES\n",
            "5       6  YELLOW     SUV  IMPORTED     NO\n",
            "6       7  YELLOW     SUV  IMPORTED    YES\n",
            "7       8  YELLOW     SUV  DOMESTIC     NO\n",
            "8       9     RED     SUV  IMPORTED     NO\n",
            "9      10     RED  SPORTS  IMPORTED    YES\n",
            "Head:       ORIGIN STOLEN\n",
            "0  DOMESTIC    YES\n",
            "1  DOMESTIC     NO\n",
            "2  DOMESTIC    YES\n",
            "3  DOMESTIC     NO\n",
            "4  IMPORTED    YES\n",
            "5  IMPORTED     NO\n",
            "6  IMPORTED    YES\n",
            "7  DOMESTIC     NO\n",
            "8  IMPORTED     NO\n",
            "9  IMPORTED    YES\n",
            "[1, 3, 4, 5, 6, 7, 8, 9]\n",
            "Head2:       ORIGIN STOLEN\n",
            "0  DOMESTIC    YES\n",
            "2  DOMESTIC    YES\n",
            "DOMESTIC NO\n",
            "Initial:      CAR NO   COLOR    TYPE    ORIGIN STOLEN\n",
            "0       1     RED  SPORTS  DOMESTIC    YES\n",
            "1       2     RED  SPORTS  DOMESTIC     NO\n",
            "2       3     RED  SPORTS  DOMESTIC    YES\n",
            "3       4  YELLOW  SPORTS  DOMESTIC     NO\n",
            "4       5  YELLOW  SPORTS  IMPORTED    YES\n",
            "5       6  YELLOW     SUV  IMPORTED     NO\n",
            "6       7  YELLOW     SUV  IMPORTED    YES\n",
            "7       8  YELLOW     SUV  DOMESTIC     NO\n",
            "8       9     RED     SUV  IMPORTED     NO\n",
            "9      10     RED  SPORTS  IMPORTED    YES\n",
            "Head:       ORIGIN STOLEN\n",
            "0  DOMESTIC    YES\n",
            "1  DOMESTIC     NO\n",
            "2  DOMESTIC    YES\n",
            "3  DOMESTIC     NO\n",
            "4  IMPORTED    YES\n",
            "5  IMPORTED     NO\n",
            "6  IMPORTED    YES\n",
            "7  DOMESTIC     NO\n",
            "8  IMPORTED     NO\n",
            "9  IMPORTED    YES\n",
            "[0, 2, 4, 5, 6, 8, 9]\n",
            "Head2:       ORIGIN STOLEN\n",
            "1  DOMESTIC     NO\n",
            "3  DOMESTIC     NO\n",
            "7  DOMESTIC     NO\n",
            "IMPORTED YES\n",
            "Initial:      CAR NO   COLOR    TYPE    ORIGIN STOLEN\n",
            "0       1     RED  SPORTS  DOMESTIC    YES\n",
            "1       2     RED  SPORTS  DOMESTIC     NO\n",
            "2       3     RED  SPORTS  DOMESTIC    YES\n",
            "3       4  YELLOW  SPORTS  DOMESTIC     NO\n",
            "4       5  YELLOW  SPORTS  IMPORTED    YES\n",
            "5       6  YELLOW     SUV  IMPORTED     NO\n",
            "6       7  YELLOW     SUV  IMPORTED    YES\n",
            "7       8  YELLOW     SUV  DOMESTIC     NO\n",
            "8       9     RED     SUV  IMPORTED     NO\n",
            "9      10     RED  SPORTS  IMPORTED    YES\n",
            "Head:       ORIGIN STOLEN\n",
            "0  DOMESTIC    YES\n",
            "1  DOMESTIC     NO\n",
            "2  DOMESTIC    YES\n",
            "3  DOMESTIC     NO\n",
            "4  IMPORTED    YES\n",
            "5  IMPORTED     NO\n",
            "6  IMPORTED    YES\n",
            "7  DOMESTIC     NO\n",
            "8  IMPORTED     NO\n",
            "9  IMPORTED    YES\n",
            "[0, 1, 2, 3, 5, 7, 8]\n",
            "Head2:       ORIGIN STOLEN\n",
            "4  IMPORTED    YES\n",
            "6  IMPORTED    YES\n",
            "9  IMPORTED    YES\n",
            "IMPORTED NO\n",
            "Initial:      CAR NO   COLOR    TYPE    ORIGIN STOLEN\n",
            "0       1     RED  SPORTS  DOMESTIC    YES\n",
            "1       2     RED  SPORTS  DOMESTIC     NO\n",
            "2       3     RED  SPORTS  DOMESTIC    YES\n",
            "3       4  YELLOW  SPORTS  DOMESTIC     NO\n",
            "4       5  YELLOW  SPORTS  IMPORTED    YES\n",
            "5       6  YELLOW     SUV  IMPORTED     NO\n",
            "6       7  YELLOW     SUV  IMPORTED    YES\n",
            "7       8  YELLOW     SUV  DOMESTIC     NO\n",
            "8       9     RED     SUV  IMPORTED     NO\n",
            "9      10     RED  SPORTS  IMPORTED    YES\n",
            "Head:       ORIGIN STOLEN\n",
            "0  DOMESTIC    YES\n",
            "1  DOMESTIC     NO\n",
            "2  DOMESTIC    YES\n",
            "3  DOMESTIC     NO\n",
            "4  IMPORTED    YES\n",
            "5  IMPORTED     NO\n",
            "6  IMPORTED    YES\n",
            "7  DOMESTIC     NO\n",
            "8  IMPORTED     NO\n",
            "9  IMPORTED    YES\n",
            "[0, 1, 2, 3, 4, 6, 7, 9]\n",
            "Head2:       ORIGIN STOLEN\n",
            "5  IMPORTED     NO\n",
            "8  IMPORTED     NO\n",
            "[3, 2, 2, 3, 4, 2, 1, 3, 2, 3, 3, 2]\n"
          ]
        },
        {
          "output_type": "stream",
          "name": "stderr",
          "text": [
            "<ipython-input-12-2452f1be0f3a>:23: FutureWarning: elementwise comparison failed; returning scalar instead, but in the future will perform elementwise comparison\n",
            "  if temp_feat not in df[column].values and temp_label not in df[column].values :\n",
            "<ipython-input-12-2452f1be0f3a>:23: FutureWarning: elementwise comparison failed; returning scalar instead, but in the future will perform elementwise comparison\n",
            "  if temp_feat not in df[column].values and temp_label not in df[column].values :\n",
            "<ipython-input-12-2452f1be0f3a>:23: FutureWarning: elementwise comparison failed; returning scalar instead, but in the future will perform elementwise comparison\n",
            "  if temp_feat not in df[column].values and temp_label not in df[column].values :\n",
            "<ipython-input-12-2452f1be0f3a>:23: FutureWarning: elementwise comparison failed; returning scalar instead, but in the future will perform elementwise comparison\n",
            "  if temp_feat not in df[column].values and temp_label not in df[column].values :\n",
            "<ipython-input-12-2452f1be0f3a>:23: FutureWarning: elementwise comparison failed; returning scalar instead, but in the future will perform elementwise comparison\n",
            "  if temp_feat not in df[column].values and temp_label not in df[column].values :\n",
            "<ipython-input-12-2452f1be0f3a>:23: FutureWarning: elementwise comparison failed; returning scalar instead, but in the future will perform elementwise comparison\n",
            "  if temp_feat not in df[column].values and temp_label not in df[column].values :\n",
            "<ipython-input-12-2452f1be0f3a>:23: FutureWarning: elementwise comparison failed; returning scalar instead, but in the future will perform elementwise comparison\n",
            "  if temp_feat not in df[column].values and temp_label not in df[column].values :\n",
            "<ipython-input-12-2452f1be0f3a>:23: FutureWarning: elementwise comparison failed; returning scalar instead, but in the future will perform elementwise comparison\n",
            "  if temp_feat not in df[column].values and temp_label not in df[column].values :\n",
            "<ipython-input-12-2452f1be0f3a>:23: FutureWarning: elementwise comparison failed; returning scalar instead, but in the future will perform elementwise comparison\n",
            "  if temp_feat not in df[column].values and temp_label not in df[column].values :\n",
            "<ipython-input-12-2452f1be0f3a>:23: FutureWarning: elementwise comparison failed; returning scalar instead, but in the future will perform elementwise comparison\n",
            "  if temp_feat not in df[column].values and temp_label not in df[column].values :\n",
            "<ipython-input-12-2452f1be0f3a>:23: FutureWarning: elementwise comparison failed; returning scalar instead, but in the future will perform elementwise comparison\n",
            "  if temp_feat not in df[column].values and temp_label not in df[column].values :\n",
            "<ipython-input-12-2452f1be0f3a>:23: FutureWarning: elementwise comparison failed; returning scalar instead, but in the future will perform elementwise comparison\n",
            "  if temp_feat not in df[column].values and temp_label not in df[column].values :\n"
          ]
        }
      ]
    },
    {
      "cell_type": "markdown",
      "source": [
        "#Calculating Likelihood and Creating Numpy array of the same"
      ],
      "metadata": {
        "id": "2JeVcckr9Uce"
      }
    },
    {
      "cell_type": "code",
      "source": [
        "import statistics\n",
        "import math\n",
        "probb =[]\n",
        "print('lh: ',lh)\n",
        "m = 0\n",
        "for j in range(len(feat_dict)):\n",
        "\n",
        "  for i in range(int(len(label_dict))):\n",
        "      print('i: ', i)\n",
        "      # dist[i, j] = abs(D[i] - oldcent[j])\n",
        "      s = lh[m]/label_counts[i]\n",
        "      probb.append(s)\n",
        "      likelihood[i, j] = s\n",
        "      likelihood[i, j] = lh[m]/label_counts[i]\n",
        "      m = m+1\n",
        "\n",
        "\n",
        "print(\"Distance: \", likelihood)\n",
        "print('Prob: ', probb)"
      ],
      "metadata": {
        "colab": {
          "base_uri": "https://localhost:8080/"
        },
        "id": "1yF5nLOsBA_a",
        "outputId": "cc9b847c-333b-470a-c3e9-3a6402f5a54b"
      },
      "execution_count": null,
      "outputs": [
        {
          "output_type": "stream",
          "name": "stdout",
          "text": [
            "lh:  [3, 2, 2, 3, 4, 2, 1, 3, 2, 3, 3, 2]\n",
            "i:  0\n",
            "i:  1\n",
            "i:  0\n",
            "i:  1\n",
            "i:  0\n",
            "i:  1\n",
            "i:  0\n",
            "i:  1\n",
            "i:  0\n",
            "i:  1\n",
            "i:  0\n",
            "i:  1\n",
            "Distance:  [[0.6 0.4 0.8 0.2 0.4 0.6]\n",
            " [0.4 0.6 0.4 0.6 0.6 0.4]]\n",
            "Prob:  [0.6, 0.4, 0.4, 0.6, 0.8, 0.4, 0.2, 0.6, 0.4, 0.6, 0.6, 0.4]\n"
          ]
        }
      ]
    },
    {
      "cell_type": "code",
      "source": [
        "print(likelihood)"
      ],
      "metadata": {
        "colab": {
          "base_uri": "https://localhost:8080/"
        },
        "id": "YhCXIpizc13v",
        "outputId": "e55b239c-4256-41db-b2a6-2481f57f8651"
      },
      "execution_count": null,
      "outputs": [
        {
          "output_type": "stream",
          "name": "stdout",
          "text": [
            "[[0.6 0.4 0.8 0.2 0.4 0.6]\n",
            " [0.4 0.6 0.4 0.6 0.6 0.4]]\n"
          ]
        }
      ]
    },
    {
      "cell_type": "markdown",
      "source": [
        "#Taking input"
      ],
      "metadata": {
        "id": "PpPTyNm89pMy"
      }
    },
    {
      "cell_type": "code",
      "source": [
        "test = []\n",
        "for _ in range(X.shape[1]):\n",
        "  temp = input('Enter the feature: ')\n",
        "  test.append(temp.upper())\n",
        "print(test)\n"
      ],
      "metadata": {
        "id": "PnJSHnUECVOp",
        "colab": {
          "base_uri": "https://localhost:8080/"
        },
        "outputId": "68292151-ddfd-487a-c415-0d8a13ed2bb9"
      },
      "execution_count": null,
      "outputs": [
        {
          "output_type": "stream",
          "name": "stdout",
          "text": [
            "Enter the feature: yellow\n",
            "Enter the feature: suv\n",
            "Enter the feature: imported\n",
            "['YELLOW', 'SUV', 'IMPORTED']\n"
          ]
        }
      ]
    },
    {
      "cell_type": "markdown",
      "source": [
        "#Function to make final predictions based on user input"
      ],
      "metadata": {
        "id": "ygvT0AeN91dm"
      }
    },
    {
      "cell_type": "code",
      "source": [
        "def predict(test):\n",
        "    ans = []\n",
        "\n",
        "    for k,j in label_dict.items():\n",
        "      print('j: ',j)\n",
        "      print('//////////////////////////////////////////////////')\n",
        "      ans_temp = 1\n",
        "      for i in test:\n",
        "        for key, value in feat_dict.items():\n",
        "          # print(key, value)\n",
        "          if key == i:\n",
        "            i = value\n",
        "            # print(i, likelihood[j,i])\n",
        "            ans_temp = ans_temp * likelihood[j,i]\n",
        "            print(\"ans_temp\", ans_temp)\n",
        "      for key, value in label_dict.items():\n",
        "          if key == j:\n",
        "            j = value\n",
        "      # print(\"j: \", j)\n",
        "      ans_temp = (ans_temp) * (prior_prob[(j)])\n",
        "      ans.append(ans_temp)\n",
        "    # print(\"ans: \", ans_temp)\n",
        "    maxx = max(ans)\n",
        "    max_index = ans.index(maxx)\n",
        "    for key, value in label_dict.items():\n",
        "          if value == max_index:\n",
        "            final_ans = key\n",
        "    print(ans)\n",
        "    return final_ans\n",
        "\n",
        "\n",
        "\n",
        "\n"
      ],
      "metadata": {
        "id": "J0EMbv-fEdz9"
      },
      "execution_count": null,
      "outputs": []
    },
    {
      "cell_type": "code",
      "source": [
        "prediction = predict(test)\n",
        "print(\"Prediction: \",prediction)"
      ],
      "metadata": {
        "id": "BvQDkwMyLkd0",
        "colab": {
          "base_uri": "https://localhost:8080/"
        },
        "outputId": "5872b7e1-a157-44fc-d3d6-10ddf8093fab"
      },
      "execution_count": null,
      "outputs": [
        {
          "output_type": "stream",
          "name": "stdout",
          "text": [
            "j:  0\n",
            "//////////////////////////////////////////////////\n",
            "ans_temp 0.4\n",
            "ans_temp 0.08000000000000002\n",
            "ans_temp 0.04800000000000001\n",
            "j:  1\n",
            "//////////////////////////////////////////////////\n",
            "ans_temp 0.6\n",
            "ans_temp 0.36\n",
            "ans_temp 0.144\n",
            "[0.024000000000000004, 0.072]\n",
            "Prediction:  NO\n"
          ]
        }
      ]
    },
    {
      "cell_type": "code",
      "source": [
        "# import csv\n",
        "\n",
        "# # Dataset\n",
        "# data = [\n",
        "#     [\"COLOR\", \"TYPE\", \"ORIGIN\", \"STOLEN\"],\n",
        "#     [\"RED\", \"SPORTS\", \"DOMESTIC\", \"YES\"],\n",
        "#     [\"RED\", \"SPORTS\", \"DOMESTIC\", \"NO\"],\n",
        "#     [\"RED\", \"SPORTS\", \"DOMESTIC\", \"YES\"],\n",
        "#     [\"YELLOW\", \"SPORTS\", \"DOMESTIC\", \"NO\"],\n",
        "#     [\"YELLOW\", \"SPORTS\", \"IMPORTED\", \"YES\"],\n",
        "#     [\"YELLOW\", \"SUV\", \"IMPORTED\", \"NO\"],\n",
        "#     [\"YELLOW\", \"SUV\", \"IMPORTED\", \"YES\"],\n",
        "#     [\"YELLOW\", \"SUV\", \"DOMESTIC\", \"NO\"],\n",
        "#     [\"RED\", \"SUV\", \"IMPORTED\", \"NO\"],\n",
        "#     [\"RED\", \"SPORTS\", \"IMPORTED\", \"YES\"],\n",
        "#     [\"RED\", \"SUV\", \"DOMESTIC\", \"YES\"],\n",
        "#     [\"YELLOW\", \"SPORTS\", \"DOMESTIC\", \"YES\"],\n",
        "#     [\"YELLOW\", \"SUV\", \"DOMESTIC\", \"YES\"],\n",
        "#     [\"RED\", \"SUV\", \"IMPORTED\", \"YES\"],\n",
        "#     [\"YELLOW\", \"SPORTS\", \"IMPORTED\", \"NO\"],\n",
        "#     [\"YELLOW\", \"SPORTS\", \"DOMESTIC\", \"YES\"],\n",
        "#     [\"YELLOW\", \"SUV\", \"IMPORTED\", \"YES\"],\n",
        "#     [\"RED\", \"SPORTS\", \"DOMESTIC\", \"NO\"],\n",
        "#     [\"YELLOW\", \"SPORTS\", \"IMPORTED\", \"YES\"],\n",
        "#     [\"RED\", \"SUV\", \"DOMESTIC\", \"YES\"],\n",
        "#     [\"YELLOW\", \"SPORTS\", \"DOMESTIC\", \"YES\"],\n",
        "#     [\"RED\", \"SPORTS\", \"IMPORTED\", \"NO\"],\n",
        "#     [\"YELLOW\", \"SUV\", \"DOMESTIC\", \"NO\"],\n",
        "#     [\"RED\", \"SUV\", \"DOMESTIC\", \"YES\"],\n",
        "#     [\"YELLOW\", \"SPORTS\", \"IMPORTED\", \"YES\"],\n",
        "#     [\"RED\", \"SPORTS\", \"DOMESTIC\", \"NO\"],\n",
        "#     [\"YELLOW\", \"SPORTS\", \"DOMESTIC\", \"YES\"],\n",
        "#     [\"RED\", \"SUV\", \"IMPORTED\", \"YES\"],\n",
        "#     [\"YELLOW\", \"SUV\", \"DOMESTIC\", \"NO\"],\n",
        "#     [\"RED\", \"SPORTS\", \"IMPORTED\", \"NO\"],\n",
        "#     [\"YELLOW\", \"SPORTS\", \"DOMESTIC\", \"YES\"],\n",
        "#     [\"RED\", \"SUV\", \"DOMESTIC\", \"YES\"],\n",
        "#     [\"YELLOW\", \"SPORTS\", \"IMPORTED\", \"YES\"],\n",
        "#     [\"RED\", \"SPORTS\", \"DOMESTIC\", \"NO\"],\n",
        "#     [\"YELLOW\", \"SUV\", \"IMPORTED\", \"NO\"],\n",
        "#     [\"RED\", \"SPORTS\", \"IMPORTED\", \"YES\"],\n",
        "# ]\n",
        "\n",
        "# # File path\n",
        "# file_path = \"car2.csv\"\n",
        "\n",
        "# # Save the data to a CSV file\n",
        "# with open(file_path, \"w\", newline=\"\") as csv_file:\n",
        "#     writer = csv.writer(csv_file)\n",
        "#     writer.writerows(data)\n",
        "\n",
        "# print(f\"Dataset saved to {file_path}\")\n"
      ],
      "metadata": {
        "id": "di--GT2lad7n"
      },
      "execution_count": null,
      "outputs": []
    },
    {
      "cell_type": "code",
      "source": [
        "#Creting list within list of unique value\n",
        "\n",
        "# features = []\n",
        "# labels = []\n",
        "\n",
        "\n",
        "# for i, j in X.iterrows():\n",
        "#    for m in range(len(X.columns)):\n",
        "#       pd.Series.tolist(j)\n",
        "#       # print(j[m])\n",
        "#       if j[m] not in features:\n",
        "#        features.append(j[m])\n",
        "# print(features)\n",
        "\n",
        "\n",
        "# for i, j in y.iterrows():\n",
        "#     for m in range(len(y.columns)):\n",
        "#       # print(j)\n",
        "#       pd.Series.tolist(j)\n",
        "#       if j[m] not in labels:\n",
        "#         labels.append(j[m])\n",
        "\n",
        "# print(labels)"
      ],
      "metadata": {
        "id": "CX-tLYaXtpKd"
      },
      "execution_count": null,
      "outputs": []
    },
    {
      "cell_type": "code",
      "source": [
        "#Creating Dictionary\n",
        "\n",
        "# feat_dict = {}\n",
        "# label_dict = {}\n",
        "\n",
        "# # for m in range(len(X.columns)):\n",
        "# for i,j in zip(features,range(len(features))):\n",
        "#       feat_dict[i] = j\n",
        "\n",
        "\n",
        "# print(feat_dict)\n",
        "# # for m in range(len(y.columns)):\n",
        "# for i,j in zip(labels,range(len(labels))):\n",
        "#       label_dict[i] = j\n",
        "\n",
        "# print(label_dict)\n",
        "\n"
      ],
      "metadata": {
        "id": "1oDCUPMcvBZV"
      },
      "execution_count": null,
      "outputs": []
    }
  ]
}